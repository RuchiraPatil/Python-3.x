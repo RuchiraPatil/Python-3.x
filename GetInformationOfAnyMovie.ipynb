{
  "nbformat": 4,
  "nbformat_minor": 0,
  "metadata": {
    "colab": {
      "name": "GetInformationOfAnyMovie.ipynb",
      "provenance": [],
      "authorship_tag": "ABX9TyOyQDGiwCToaIUTTJQhZ2Hm",
      "include_colab_link": true
    },
    "kernelspec": {
      "name": "python3",
      "display_name": "Python 3"
    }
  },
  "cells": [
    {
      "cell_type": "markdown",
      "metadata": {
        "id": "view-in-github",
        "colab_type": "text"
      },
      "source": [
        "<a href=\"https://colab.research.google.com/github/RuchiraPatil/Python-3.x/blob/master/GetInformationOfAnyMovie.ipynb\" target=\"_parent\"><img src=\"https://colab.research.google.com/assets/colab-badge.svg\" alt=\"Open In Colab\"/></a>"
      ]
    },
    {
      "cell_type": "code",
      "metadata": {
        "colab": {
          "base_uri": "https://localhost:8080/"
        },
        "id": "tFsyPF4GMKvv",
        "outputId": "02c77eaf-f3f0-438c-a710-3aee058e7c19"
      },
      "source": [
        "pip install imdbpy"
      ],
      "execution_count": 1,
      "outputs": [
        {
          "output_type": "stream",
          "text": [
            "Collecting imdbpy\n",
            "\u001b[?25l  Downloading https://files.pythonhosted.org/packages/c2/01/f5ac9a00185d02af0da7866e02f36de674c531f4d16a82f6ea942446471a/IMDbPY-2020.9.25-py3-none-any.whl (304kB)\n",
            "\r\u001b[K     |█                               | 10kB 14.6MB/s eta 0:00:01\r\u001b[K     |██▏                             | 20kB 19.0MB/s eta 0:00:01\r\u001b[K     |███▎                            | 30kB 16.1MB/s eta 0:00:01\r\u001b[K     |████▎                           | 40kB 11.3MB/s eta 0:00:01\r\u001b[K     |█████▍                          | 51kB 9.9MB/s eta 0:00:01\r\u001b[K     |██████▌                         | 61kB 8.9MB/s eta 0:00:01\r\u001b[K     |███████▌                        | 71kB 9.0MB/s eta 0:00:01\r\u001b[K     |████████▋                       | 81kB 9.9MB/s eta 0:00:01\r\u001b[K     |█████████▊                      | 92kB 9.5MB/s eta 0:00:01\r\u001b[K     |██████████▊                     | 102kB 10.1MB/s eta 0:00:01\r\u001b[K     |███████████▉                    | 112kB 10.1MB/s eta 0:00:01\r\u001b[K     |█████████████                   | 122kB 10.1MB/s eta 0:00:01\r\u001b[K     |██████████████                  | 133kB 10.1MB/s eta 0:00:01\r\u001b[K     |███████████████                 | 143kB 10.1MB/s eta 0:00:01\r\u001b[K     |████████████████▏               | 153kB 10.1MB/s eta 0:00:01\r\u001b[K     |█████████████████▏              | 163kB 10.1MB/s eta 0:00:01\r\u001b[K     |██████████████████▎             | 174kB 10.1MB/s eta 0:00:01\r\u001b[K     |███████████████████▍            | 184kB 10.1MB/s eta 0:00:01\r\u001b[K     |████████████████████▍           | 194kB 10.1MB/s eta 0:00:01\r\u001b[K     |█████████████████████▌          | 204kB 10.1MB/s eta 0:00:01\r\u001b[K     |██████████████████████▋         | 215kB 10.1MB/s eta 0:00:01\r\u001b[K     |███████████████████████▋        | 225kB 10.1MB/s eta 0:00:01\r\u001b[K     |████████████████████████▊       | 235kB 10.1MB/s eta 0:00:01\r\u001b[K     |█████████████████████████▉      | 245kB 10.1MB/s eta 0:00:01\r\u001b[K     |██████████████████████████▉     | 256kB 10.1MB/s eta 0:00:01\r\u001b[K     |████████████████████████████    | 266kB 10.1MB/s eta 0:00:01\r\u001b[K     |█████████████████████████████   | 276kB 10.1MB/s eta 0:00:01\r\u001b[K     |██████████████████████████████  | 286kB 10.1MB/s eta 0:00:01\r\u001b[K     |███████████████████████████████▏| 296kB 10.1MB/s eta 0:00:01\r\u001b[K     |████████████████████████████████| 307kB 10.1MB/s \n",
            "\u001b[?25hRequirement already satisfied: lxml in /usr/local/lib/python3.6/dist-packages (from imdbpy) (4.2.6)\n",
            "Requirement already satisfied: SQLAlchemy in /usr/local/lib/python3.6/dist-packages (from imdbpy) (1.3.23)\n",
            "Installing collected packages: imdbpy\n",
            "Successfully installed imdbpy-2020.9.25\n"
          ],
          "name": "stdout"
        }
      ]
    },
    {
      "cell_type": "code",
      "metadata": {
        "id": "5VpeuAzsMe5I",
        "colab": {
          "base_uri": "https://localhost:8080/"
        },
        "outputId": "5b1f3d9e-f49f-4612-a3b5-950de20deb84"
      },
      "source": [
        "import imdb\n",
        "moviesDB = imdb.IMDb()\n",
        "movieName = input(\"Enter any movie name : \")\n",
        "movies = moviesDB.search_movie(movieName)\n",
        "id = movies[0].getID()\n",
        "movie = moviesDB.get_movie(id)\n",
        "title = movie['title']\n",
        "year = movie['year']\n",
        "rating = movie['rating']\n",
        "directors = movie['directors']\n",
        "casting = movie['cast']\n",
        "print(\"Movie info : \")\n",
        "print(f'{title} - {year}')\n",
        "print(f'rating : {rating}')\n",
        "direcStr = ' '.join(map(str,directors))\n",
        "print(f'directors : {direcStr}')\n",
        "actors = ' , '.join(map(str,casting))\n",
        "print(f'actors : {actors}')"
      ],
      "execution_count": 4,
      "outputs": [
        {
          "output_type": "stream",
          "text": [
            "Enter any movie name : Harry Potter\n",
            "Movie info : \n",
            "Harry Potter and the Sorcerer's Stone - 2001\n",
            "rating : 7.6\n",
            "directors : Chris Columbus\n",
            "actors : Richard Harris , Maggie Smith , Robbie Coltrane , Saunders Triplets , Daniel Radcliffe , Fiona Shaw , Harry Melling , Richard Griffiths , Derek Deadman , Ian Hart , Ben Borowiecki , Warwick Davis , Verne Troyer , John Hurt , Richard Bremmer , Geraldine Somerville , Harry Taylor , Julie Walters , Bonnie Wright , Chris Rankin , James Phelps , Oliver Phelps , Rupert Grint , Jean Southern , Emma Watson , Matthew Lewis , Tom Felton , Jamie Waylett , Josh Herdman , Devon Murray , Alfred Enoch , Leslie Phillips , Eleanor Columbus , John Cleese , Terence Bayler , Simon Fisher-Becker , Nina Young , David Bradley , Alan Rickman , Zoë Wanamaker , Luke Youngblood , Sean Biggerstaff , Elizabeth Spriggs , Danielle Tabor , Leilah Sutherland , Emily Dale , David Holmes , Will Theakston , Scot Fearn , Adrian Rawlins , Ray Fearon , Andy Herd , Adam Alderman , Karen Anderson , Steve Apelt , Mark Ballas , Paul Bannon , Alan Bennett , Lukas Bennett , Sarah Bennett , David Brett , Peter Burroughs , Melita Clarke , Paul Marc Davis , Dex , Melanie Dixon , Amy Domenica , Mike Edmonds , Liam Elcoat , David William James Elliott , Scott English , Holly-Ann Filtness , Gizmo , Rusty Goffe , Paul Grant , Dani Harmer , Katie Healy , Marc Hendrey , Maude Hirst , Leila Hoffman , Aimee Holden , Phil Holden , Darren Horan , Derek Hough , Julianne Hough , Will Howes , Hugo , Kieri Kennedy , Natalie Klamar , Theo Kypri , Oliver Lavery-Farag , Mark Lisle , Peter Mandell , Maximus , Franky Mwangi , Jenny O'Sullivan , Oh Oh , Ook , Jo Osmond , Lisa Osmond , Cath Peakin , Stefan Pejic , Christina Petrou , Niall Phillips , Jason Porter , Katie Purvis , Nicholas Read , Richard Alan Reid , Miles Richardson , Sarah Rorbach , Mark Sealey , Kiran Shah , Dominic Smith , Bianca Sowerby , Gerald Staddon , Zoe Sugg , Dolly Thompson , Darren Tough , Bernadette Jane Vanderkar , Jimmy Vee , Jasmin Walia , Brian Wheeler , Louisa Worley , Gary Wronecki\n"
          ],
          "name": "stdout"
        }
      ]
    }
  ]
}