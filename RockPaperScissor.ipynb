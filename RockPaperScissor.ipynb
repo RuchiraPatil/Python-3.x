{
  "nbformat": 4,
  "nbformat_minor": 0,
  "metadata": {
    "colab": {
      "name": "RockPaperScissor.ipynb",
      "provenance": [],
      "authorship_tag": "ABX9TyNho2aqjpyFotssjClkDC5p",
      "include_colab_link": true
    },
    "kernelspec": {
      "name": "python3",
      "display_name": "Python 3"
    }
  },
  "cells": [
    {
      "cell_type": "markdown",
      "metadata": {
        "id": "view-in-github",
        "colab_type": "text"
      },
      "source": [
        "<a href=\"https://colab.research.google.com/github/RuchiraPatil/Python-3.x/blob/master/RockPaperScissor.ipynb\" target=\"_parent\"><img src=\"https://colab.research.google.com/assets/colab-badge.svg\" alt=\"Open In Colab\"/></a>"
      ]
    },
    {
      "cell_type": "code",
      "metadata": {
        "id": "mmot4KEOXqWS",
        "colab": {
          "base_uri": "https://localhost:8080/"
        },
        "outputId": "5762ff02-3e94-42fc-d878-bebe2b10267f"
      },
      "source": [
        "import random\n",
        "print(\"Rock, Paper, Scissors\")\n",
        "\n",
        "player = input(\"Enter R, P or S : \")      # R = Rock, P = Paper, S = Scissor\n",
        "player = player.upper()\n",
        "cpu = str(random.randint(1,3))\n",
        "if (cpu == '1'):\n",
        "  cpu = 'R'\n",
        "elif (cpu == '2'):\n",
        "  cpu = 'P'\n",
        "else:\n",
        "  cpu = 'S'\n",
        "\n",
        "if (player == 'R' or player == 'P' or player == 'S'):\n",
        "  if ((player == 'R' and cpu == 'S') or (player == 'P' and cpu == 'R') or (player == 'S' and cpu == 'P')):\n",
        "    print(\"CPU : \" + cpu)\n",
        "    print(\"Player : \" + player)\n",
        "    print(\"You are winner.\")\n",
        "  elif (player == cpu):\n",
        "    print(\"CPU : \" + cpu)\n",
        "    print(\"Player : \" + player)\n",
        "    print(\"Draw.\")\n",
        "  else:\n",
        "    print(\"CPU : \" + cpu)\n",
        "    print(\"Player : \" + player)\n",
        "    print(\"You are loser.\")\n",
        "\n"
      ],
      "execution_count": 6,
      "outputs": [
        {
          "output_type": "stream",
          "text": [
            "Rock, Paper, Scissors\n",
            "Enter R, P or S : S\n",
            "CPU : R\n",
            "Player : S\n",
            "You are loser.\n"
          ],
          "name": "stdout"
        }
      ]
    }
  ]
}