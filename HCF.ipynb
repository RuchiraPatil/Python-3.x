{
  "nbformat": 4,
  "nbformat_minor": 0,
  "metadata": {
    "colab": {
      "name": "HCF.ipynb",
      "provenance": [],
      "authorship_tag": "ABX9TyNUImi3t9LzlIyEbDDfFrPR",
      "include_colab_link": true
    },
    "kernelspec": {
      "name": "python3",
      "display_name": "Python 3"
    }
  },
  "cells": [
    {
      "cell_type": "markdown",
      "metadata": {
        "id": "view-in-github",
        "colab_type": "text"
      },
      "source": [
        "<a href=\"https://colab.research.google.com/github/RuchiraPatil/Python-3.x/blob/master/HCF.ipynb\" target=\"_parent\"><img src=\"https://colab.research.google.com/assets/colab-badge.svg\" alt=\"Open In Colab\"/></a>"
      ]
    },
    {
      "cell_type": "code",
      "metadata": {
        "colab": {
          "base_uri": "https://localhost:8080/"
        },
        "id": "4F5iC9g_vVeu",
        "outputId": "0fc5c674-ee50-41b2-d4b0-46c69a5810fc"
      },
      "source": [
        "def hcf(a,b):\n",
        "  if(b == 0):\n",
        "    return a\n",
        "  else:\n",
        "    return hcf(b, a%b)\n",
        "\n",
        "a = int(input(\"Enter value of a : \"))\n",
        "b = int(input(\"Enter value of b : \"))\n",
        "\n",
        "print(hcf(a,b))"
      ],
      "execution_count": 1,
      "outputs": [
        {
          "output_type": "stream",
          "text": [
            "Enter value of a : 8\n",
            "Enter value of b : 10\n",
            "2\n"
          ],
          "name": "stdout"
        }
      ]
    }
  ]
}