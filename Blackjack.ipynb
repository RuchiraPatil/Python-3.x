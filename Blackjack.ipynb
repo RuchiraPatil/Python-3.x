{
  "nbformat": 4,
  "nbformat_minor": 0,
  "metadata": {
    "colab": {
      "name": "Blackjack.ipynb",
      "provenance": [],
      "mount_file_id": "1dvZZmqM4MDx4fUduC7pbspZ8D5F6bD6Q",
      "authorship_tag": "ABX9TyPnsSVE1NJTsU5ZBDHlWW2T",
      "include_colab_link": true
    },
    "kernelspec": {
      "name": "python3",
      "display_name": "Python 3"
    },
    "language_info": {
      "name": "python"
    }
  },
  "cells": [
    {
      "cell_type": "markdown",
      "metadata": {
        "id": "view-in-github",
        "colab_type": "text"
      },
      "source": [
        "<a href=\"https://colab.research.google.com/github/RuchiraPatil/Python-3.x/blob/master/Blackjack.ipynb\" target=\"_parent\"><img src=\"https://colab.research.google.com/assets/colab-badge.svg\" alt=\"Open In Colab\"/></a>"
      ]
    },
    {
      "cell_type": "code",
      "metadata": {
        "id": "jAhXkv-r1GKQ"
      },
      "source": [
        "# Defining a function to calculate each hand total\n",
        "def calculate_hand_total(hand):\n",
        "    hand_total=0;\n",
        "    aces_count=0\n",
        "    for item in hand:\n",
        "        if item in ['J','Q','K']:\n",
        "            item='10'\n",
        "        elif item == 'A':\n",
        "            aces_count+=1\n",
        "            item='1'\n",
        "        hand_total+=int(item)\n",
        "    if aces_count and hand_total<=11:\n",
        "        hand_total += 10\n",
        "    return hand_total"
      ],
      "execution_count": 1,
      "outputs": []
    },
    {
      "cell_type": "code",
      "metadata": {
        "id": "S1R3LtlP1Z9_",
        "colab": {
          "base_uri": "https://localhost:8080/"
        },
        "outputId": "35531aa8-e4a4-4179-bf50-f06d5e04becd"
      },
      "source": [
        "#Checking calculate_hand_total(hand) function with random values\n",
        "hand=['A', 'A', '9', '3']\n",
        "print(calculate_hand_total(hand))"
      ],
      "execution_count": 2,
      "outputs": [
        {
          "output_type": "stream",
          "text": [
            "14\n"
          ],
          "name": "stdout"
        }
      ]
    },
    {
      "cell_type": "code",
      "metadata": {
        "id": "v5u7Bzocna1u"
      },
      "source": [
        "def blackjack_hand_greater_than(hand_1, hand_2):\n",
        "    \"\"\"\n",
        "    Return True if hand_1 beats hand_2, and False otherwise.\n",
        "    \n",
        "    In order for hand_1 to beat hand_2 the following must be true:\n",
        "    - The total of hand_1 must not exceed 21\n",
        "    - The total of hand_1 must exceed the total of hand_2 OR hand_2's total must exceed 21\n",
        "    \n",
        "    Hands are represented as a list of cards. Each card is represented by a string.\n",
        "    \n",
        "    When adding up a hand's total, cards with numbers count for that many points. Face\n",
        "    cards ('J', 'Q', and 'K') are worth 10 points. 'A' can count for 1 or 11.\n",
        "    \n",
        "    When determining a hand's total, you should try to count aces in the way that \n",
        "    maximizes the hand's total without going over 21. e.g. the total of ['A', 'A', '9'] is 21,\n",
        "    the total of ['A', 'A', '9', '3'] is 14.\n",
        "    \n",
        "    Examples:\n",
        "    >>> blackjack_hand_greater_than(['K'], ['3', '4'])\n",
        "    True\n",
        "    >>> blackjack_hand_greater_than(['K'], ['10'])\n",
        "    False\n",
        "    >>> blackjack_hand_greater_than(['K', 'K', '2'], ['3'])\n",
        "    False\n",
        "    \"\"\"\n",
        "    hand_1_total=calculate_hand_total(hand_1)\n",
        "    if hand_1_total > 21:\n",
        "        return False\n",
        "    hand_2_total=calculate_hand_total(hand_2)\n",
        "    if hand_1_total > hand_2_total or hand_2_total > 21:\n",
        "        return True\n",
        "    return False"
      ],
      "execution_count": 3,
      "outputs": []
    }
  ]
}