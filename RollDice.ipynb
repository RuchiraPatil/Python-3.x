{
  "nbformat": 4,
  "nbformat_minor": 0,
  "metadata": {
    "colab": {
      "name": "RollDice.ipynb",
      "provenance": [],
      "authorship_tag": "ABX9TyNfxE86m/TIY8cnD+x7uqLN",
      "include_colab_link": true
    },
    "kernelspec": {
      "name": "python3",
      "display_name": "Python 3"
    }
  },
  "cells": [
    {
      "cell_type": "markdown",
      "metadata": {
        "id": "view-in-github",
        "colab_type": "text"
      },
      "source": [
        "<a href=\"https://colab.research.google.com/github/RuchiraPatil/Python-3.x/blob/master/RollDice.ipynb\" target=\"_parent\"><img src=\"https://colab.research.google.com/assets/colab-badge.svg\" alt=\"Open In Colab\"/></a>"
      ]
    },
    {
      "cell_type": "code",
      "metadata": {
        "colab": {
          "base_uri": "https://localhost:8080/"
        },
        "id": "b1tdSEAjqdL5",
        "outputId": "7ca7f2f6-9c87-4a7a-f4a0-88ee2558377f"
      },
      "source": [
        "import random\n",
        "\n",
        "rollDice = \"yes\"\n",
        "\n",
        "while rollDice == \"yes\":\n",
        "  num = random.randint(1,6)      #min and max values\n",
        "\n",
        "  if num == 1:\n",
        "    print('1') \n",
        "  if num == 2:\n",
        "    print('2')   \n",
        "  if num == 3:\n",
        "    print('3') \n",
        "  if num == 4:\n",
        "    print('4') \n",
        "  if num == 5:\n",
        "    print('5') \n",
        "  if num == 6:\n",
        "    print('6')\n",
        "  \n",
        "  num = input(\"To roll the dice, Please enter yes : \")\n",
        "  print(\"\\n\")"
      ],
      "execution_count": null,
      "outputs": [
        {
          "output_type": "stream",
          "text": [
            "2\n",
            "To roll the dice, Please enter yes : yes\n",
            "\n",
            "\n",
            "6\n",
            "To roll the dice, Please enter yes : yes\n",
            "\n",
            "\n",
            "1\n"
          ],
          "name": "stdout"
        }
      ]
    },
    {
      "cell_type": "code",
      "metadata": {
        "id": "A84153rPWJsH"
      },
      "source": [
        "import random\n",
        "\n",
        "rollDice = \"yes\"\n",
        "\n",
        "def rollDice():\n",
        "  while rollDice == \"yes\":\n",
        "    num = random.randint(1,6)      #min and max values\n",
        "\n",
        "    if num == 1:\n",
        "      print('1') \n",
        "    if num == 2:\n",
        "      print('2')   \n",
        "    if num == 3:\n",
        "      print('3') \n",
        "    if num == 4:\n",
        "      print('4') \n",
        "    if num == 5:\n",
        "      print('5') \n",
        "    if num == 6:\n",
        "      print('6') \n",
        "    \n",
        "    rollDice = input(\"To roll the dice, Please enter yes : \")\n",
        "    print(\"\\n\", num)\n",
        "\n",
        "\n",
        "if __name__ == \"__rollDice__\":\n",
        "  try:\n",
        "    rollDice()  \n",
        "  except KeyboardInterrupt:\n",
        "    pass"
      ],
      "execution_count": null,
      "outputs": []
    },
    {
      "cell_type": "code",
      "metadata": {
        "colab": {
          "base_uri": "https://localhost:8080/"
        },
        "id": "0mCGBcu3ZKaO",
        "outputId": "33f3efb4-748d-46f5-f57d-4550108951b8"
      },
      "source": [
        "import random \n",
        "\n",
        "\n",
        "x = \"y\"\n",
        "\n",
        "while x == \"y\": \n",
        "\t\n",
        "\t# Gnenerates a random number \n",
        "\t# between 1 and 6 (including \n",
        "\t# both 1 and 6) \n",
        "\tno = random.randint(1,6) \n",
        "\t\n",
        "\tif no == 1: \n",
        "\t\tprint(\"[-----]\") \n",
        "\t\tprint(\"[\t ]\") \n",
        "\t\tprint(\"[ 0 ]\") \n",
        "\t\tprint(\"[\t ]\") \n",
        "\t\tprint(\"[-----]\") \n",
        "\tif no == 2: \n",
        "\t\tprint(\"[-----]\") \n",
        "\t\tprint(\"[ 0 ]\") \n",
        "\t\tprint(\"[\t ]\") \n",
        "\t\tprint(\"[ 0 ]\") \n",
        "\t\tprint(\"[-----]\") \n",
        "\tif no == 3: \n",
        "\t\tprint(\"[-----]\") \n",
        "\t\tprint(\"[\t ]\") \n",
        "\t\tprint(\"[0 0 0]\") \n",
        "\t\tprint(\"[\t ]\") \n",
        "\t\tprint(\"[-----]\") \n",
        "\tif no == 4: \n",
        "\t\tprint(\"[-----]\") \n",
        "\t\tprint(\"[0 0]\") \n",
        "\t\tprint(\"[\t ]\") \n",
        "\t\tprint(\"[0 0]\") \n",
        "\t\tprint(\"[-----]\") \n",
        "\tif no == 5: \n",
        "\t\tprint(\"[-----]\") \n",
        "\t\tprint(\"[0 0]\") \n",
        "\t\tprint(\"[ 0 ]\") \n",
        "\t\tprint(\"[0 0]\") \n",
        "\t\tprint(\"[-----]\") \n",
        "\tif no == 6: \n",
        "\t\tprint(\"[-----]\") \n",
        "\t\tprint(\"[0 0 0]\") \n",
        "\t\tprint(\"[\t ]\") \n",
        "\t\tprint(\"[0 0 0]\") \n",
        "\t\tprint(\"[-----]\") \n",
        "\t\t\n",
        "\tx=input(\"press y to roll again and n to exit:\") \n",
        "\tprint(\"\\n\") \n"
      ],
      "execution_count": null,
      "outputs": [
        {
          "output_type": "stream",
          "text": [
            "[-----]\n",
            "[0 0]\n",
            "[ 0 ]\n",
            "[0 0]\n",
            "[-----]\n"
          ],
          "name": "stdout"
        }
      ]
    }
  ]
}