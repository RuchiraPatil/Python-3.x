{
  "nbformat": 4,
  "nbformat_minor": 0,
  "metadata": {
    "colab": {
      "name": "DecimalToOtherBases.ipynb",
      "provenance": [],
      "authorship_tag": "ABX9TyPRtYTwGLn0T8sMRlAn7cnZ",
      "include_colab_link": true
    },
    "kernelspec": {
      "name": "python3",
      "display_name": "Python 3"
    }
  },
  "cells": [
    {
      "cell_type": "markdown",
      "metadata": {
        "id": "view-in-github",
        "colab_type": "text"
      },
      "source": [
        "<a href=\"https://colab.research.google.com/github/RuchiraPatil/Python-3.x/blob/master/DecimalToOtherBases.ipynb\" target=\"_parent\"><img src=\"https://colab.research.google.com/assets/colab-badge.svg\" alt=\"Open In Colab\"/></a>"
      ]
    },
    {
      "cell_type": "code",
      "metadata": {
        "colab": {
          "base_uri": "https://localhost:8080/"
        },
        "id": "WKCMJr6lnCdl",
        "outputId": "9e223bc5-8410-4357-d67c-743bd9479baf"
      },
      "source": [
        "# Decimal to Binary\n",
        "\n",
        "def decimalToBinary(decimal):\n",
        "  decimal =int(decimal)\n",
        "  print(decimal, \"in Binary : \", bin(decimal))\n",
        "\n",
        "decimal = input(\"Enter a decimal number : \")\n",
        "\n",
        "decimalToBinary(decimal)\n",
        "\n",
        "\n",
        "# Decimal to octal\n",
        "\n",
        "def decimalToOctal(decimal):\n",
        "  decimal = int(decimal)\n",
        "  print(decimal, \"in Octal : \", oct(decimal))\n",
        "\n",
        "decimalToOctal(decimal)\n",
        "\n",
        "\n",
        "# Decimal to hexadecimal\n",
        "\n",
        "def decimalToHexadecimal(decimal):\n",
        "  decimal = int(decimal)\n",
        "  print(decimal, \"in Hexadecimal : \", hex(decimal))  \n",
        "\n",
        "decimalToHexadecimal(decimal)  \n"
      ],
      "execution_count": 9,
      "outputs": [
        {
          "output_type": "stream",
          "text": [
            "Enter a decimal number : 9\n",
            "9 in Binary :  0b1001\n",
            "9 in Octal :  0o11\n",
            "9 in Hexadecimal :  0x9\n"
          ],
          "name": "stdout"
        }
      ]
    }
  ]
}