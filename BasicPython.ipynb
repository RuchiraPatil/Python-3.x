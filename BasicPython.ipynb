{
  "nbformat": 4,
  "nbformat_minor": 0,
  "metadata": {
    "colab": {
      "name": "BasicPython.ipynb",
      "provenance": [],
      "authorship_tag": "ABX9TyPSLmDEXHypZArQ2A5/NPrf",
      "include_colab_link": true
    },
    "kernelspec": {
      "name": "python3",
      "display_name": "Python 3"
    }
  },
  "cells": [
    {
      "cell_type": "markdown",
      "metadata": {
        "id": "view-in-github",
        "colab_type": "text"
      },
      "source": [
        "<a href=\"https://colab.research.google.com/github/RuchiraPatil/Python-3.x/blob/master/BasicPython.ipynb\" target=\"_parent\"><img src=\"https://colab.research.google.com/assets/colab-badge.svg\" alt=\"Open In Colab\"/></a>"
      ]
    },
    {
      "cell_type": "code",
      "metadata": {
        "colab": {
          "base_uri": "https://localhost:8080/"
        },
        "id": "3WfJBTJmwG8R",
        "outputId": "93964257-e96c-4e1c-db5f-10ec4e60fcc2"
      },
      "source": [
        "# constant\n",
        "print(\"3456\")"
      ],
      "execution_count": null,
      "outputs": [
        {
          "output_type": "stream",
          "text": [
            "3456\n"
          ],
          "name": "stdout"
        }
      ]
    },
    {
      "cell_type": "code",
      "metadata": {
        "id": "qbxiF2QZ2TUl",
        "colab": {
          "base_uri": "https://localhost:8080/"
        },
        "outputId": "b030e5cd-0764-40b1-8bcd-ec48d4ba7f4c"
      },
      "source": [
        "print(\"What's up?\")"
      ],
      "execution_count": null,
      "outputs": [
        {
          "output_type": "stream",
          "text": [
            "What's up?\n"
          ],
          "name": "stdout"
        }
      ]
    },
    {
      "cell_type": "code",
      "metadata": {
        "colab": {
          "base_uri": "https://localhost:8080/"
        },
        "id": "9dSBkJ-7WFnD",
        "outputId": "f66d3bd1-218f-434d-80ab-a57997803a8b"
      },
      "source": [
        "# variable\n",
        "a = 40.4\n",
        "b = 30.8\n",
        "print(a)"
      ],
      "execution_count": null,
      "outputs": [
        {
          "output_type": "stream",
          "text": [
            "40.4\n"
          ],
          "name": "stdout"
        }
      ]
    },
    {
      "cell_type": "code",
      "metadata": {
        "colab": {
          "base_uri": "https://localhost:8080/"
        },
        "id": "U5V9NQxOWX1k",
        "outputId": "04042eb0-c294-4af8-ba03-1735d5928034"
      },
      "source": [
        "a = 40.4\n",
        "b = 30.8\n",
        "a = 10\n",
        "print(a)"
      ],
      "execution_count": null,
      "outputs": [
        {
          "output_type": "stream",
          "text": [
            "10\n"
          ],
          "name": "stdout"
        }
      ]
    },
    {
      "cell_type": "code",
      "metadata": {
        "colab": {
          "base_uri": "https://localhost:8080/"
        },
        "id": "ftOQ74msW1iP",
        "outputId": "a56e7ed3-0e2a-49ad-bf07-188c1ae249ab"
      },
      "source": [
        "# Expression\n",
        "x = 1 + 2**3 / 4 * 5\n",
        "print(x)"
      ],
      "execution_count": null,
      "outputs": [
        {
          "output_type": "stream",
          "text": [
            "11.0\n"
          ],
          "name": "stdout"
        }
      ]
    },
    {
      "cell_type": "code",
      "metadata": {
        "colab": {
          "base_uri": "https://localhost:8080/"
        },
        "id": "NFw9NfFdWl4r",
        "outputId": "917216d8-bbdb-47c4-98b6-5b61f0a8e52a"
      },
      "source": [
        "# Data Types\n",
        "test = 'hello' + 'there'\n",
        "type(test)\n",
        "print(type(test))"
      ],
      "execution_count": null,
      "outputs": [
        {
          "output_type": "stream",
          "text": [
            "<class 'str'>\n"
          ],
          "name": "stdout"
        }
      ]
    },
    {
      "cell_type": "code",
      "metadata": {
        "colab": {
          "base_uri": "https://localhost:8080/"
        },
        "id": "m_kghqpKXxhk",
        "outputId": "8608d0ea-e108-4a91-c5cd-855d80b0c3c9"
      },
      "source": [
        "type('hello')"
      ],
      "execution_count": null,
      "outputs": [
        {
          "output_type": "execute_result",
          "data": {
            "text/plain": [
              "str"
            ]
          },
          "metadata": {
            "tags": []
          },
          "execution_count": 7
        }
      ]
    },
    {
      "cell_type": "code",
      "metadata": {
        "colab": {
          "base_uri": "https://localhost:8080/",
          "height": 180
        },
        "id": "ykt6DHh5X39V",
        "outputId": "f903f3dc-b566-4a77-8f85-6a9c46ceedce"
      },
      "source": [
        "test = 'test' + 1\n",
        "type(test)"
      ],
      "execution_count": null,
      "outputs": [
        {
          "output_type": "error",
          "ename": "TypeError",
          "evalue": "ignored",
          "traceback": [
            "\u001b[0;31m---------------------------------------------------------------------------\u001b[0m",
            "\u001b[0;31mTypeError\u001b[0m                                 Traceback (most recent call last)",
            "\u001b[0;32m<ipython-input-9-fbe00e20dd81>\u001b[0m in \u001b[0;36m<module>\u001b[0;34m()\u001b[0m\n\u001b[0;32m----> 1\u001b[0;31m \u001b[0mtest\u001b[0m \u001b[0;34m=\u001b[0m \u001b[0;34m'test'\u001b[0m \u001b[0;34m+\u001b[0m \u001b[0;36m1\u001b[0m\u001b[0;34m\u001b[0m\u001b[0;34m\u001b[0m\u001b[0m\n\u001b[0m\u001b[1;32m      2\u001b[0m \u001b[0mtype\u001b[0m\u001b[0;34m(\u001b[0m\u001b[0mtest\u001b[0m\u001b[0;34m)\u001b[0m\u001b[0;34m\u001b[0m\u001b[0;34m\u001b[0m\u001b[0m\n",
            "\u001b[0;31mTypeError\u001b[0m: must be str, not int"
          ]
        }
      ]
    },
    {
      "cell_type": "code",
      "metadata": {
        "colab": {
          "base_uri": "https://localhost:8080/"
        },
        "id": "LkdPi6JaX4Kq",
        "outputId": "a83e2ed5-f90a-4cd3-ac4e-1a7748595bb5"
      },
      "source": [
        "type(1)"
      ],
      "execution_count": null,
      "outputs": [
        {
          "output_type": "execute_result",
          "data": {
            "text/plain": [
              "int"
            ]
          },
          "metadata": {
            "tags": []
          },
          "execution_count": 8
        }
      ]
    },
    {
      "cell_type": "code",
      "metadata": {
        "colab": {
          "base_uri": "https://localhost:8080/"
        },
        "id": "VGpj8021Ynvi",
        "outputId": "aef016c3-2257-4faf-aa19-851e9dabad84"
      },
      "source": [
        "# Type Conversions\n",
        "print(float(99) + 100)\n"
      ],
      "execution_count": null,
      "outputs": [
        {
          "output_type": "stream",
          "text": [
            "199.0\n"
          ],
          "name": "stdout"
        }
      ]
    },
    {
      "cell_type": "code",
      "metadata": {
        "colab": {
          "base_uri": "https://localhost:8080/"
        },
        "id": "vhOYtkZJZDZF",
        "outputId": "b2e2c7b8-753b-467c-eb39-0c5729c96b1d"
      },
      "source": [
        "test = '123'\n",
        "testint = int(test)\n",
        "print(type(testint))\n",
        "print(type(test))"
      ],
      "execution_count": null,
      "outputs": [
        {
          "output_type": "stream",
          "text": [
            "<class 'int'>\n",
            "<class 'str'>\n"
          ],
          "name": "stdout"
        }
      ]
    },
    {
      "cell_type": "code",
      "metadata": {
        "colab": {
          "base_uri": "https://localhost:8080/",
          "height": 214
        },
        "id": "bMj6VPyVaNyf",
        "outputId": "e47efe62-c584-409c-ce3a-ed13172a3f8d"
      },
      "source": [
        "test = \"What's up?\"\n",
        "testint = int(test)\n",
        "print(type(testint))\n",
        "print(type(test))"
      ],
      "execution_count": null,
      "outputs": [
        {
          "output_type": "error",
          "ename": "ValueError",
          "evalue": "ignored",
          "traceback": [
            "\u001b[0;31m---------------------------------------------------------------------------\u001b[0m",
            "\u001b[0;31mValueError\u001b[0m                                Traceback (most recent call last)",
            "\u001b[0;32m<ipython-input-15-a1daf5d5a480>\u001b[0m in \u001b[0;36m<module>\u001b[0;34m()\u001b[0m\n\u001b[1;32m      1\u001b[0m \u001b[0mtest\u001b[0m \u001b[0;34m=\u001b[0m \u001b[0;34m\"What's up?\"\u001b[0m\u001b[0;34m\u001b[0m\u001b[0;34m\u001b[0m\u001b[0m\n\u001b[0;32m----> 2\u001b[0;31m \u001b[0mtestint\u001b[0m \u001b[0;34m=\u001b[0m \u001b[0mint\u001b[0m\u001b[0;34m(\u001b[0m\u001b[0mtest\u001b[0m\u001b[0;34m)\u001b[0m\u001b[0;34m\u001b[0m\u001b[0;34m\u001b[0m\u001b[0m\n\u001b[0m\u001b[1;32m      3\u001b[0m \u001b[0mprint\u001b[0m\u001b[0;34m(\u001b[0m\u001b[0mtype\u001b[0m\u001b[0;34m(\u001b[0m\u001b[0mtestint\u001b[0m\u001b[0;34m)\u001b[0m\u001b[0;34m)\u001b[0m\u001b[0;34m\u001b[0m\u001b[0;34m\u001b[0m\u001b[0m\n\u001b[1;32m      4\u001b[0m \u001b[0mprint\u001b[0m\u001b[0;34m(\u001b[0m\u001b[0mtype\u001b[0m\u001b[0;34m(\u001b[0m\u001b[0mtest\u001b[0m\u001b[0;34m)\u001b[0m\u001b[0;34m)\u001b[0m\u001b[0;34m\u001b[0m\u001b[0;34m\u001b[0m\u001b[0m\n",
            "\u001b[0;31mValueError\u001b[0m: invalid literal for int() with base 10: \"What's up?\""
          ]
        }
      ]
    },
    {
      "cell_type": "code",
      "metadata": {
        "colab": {
          "base_uri": "https://localhost:8080/"
        },
        "id": "hN5YHKB4cMUs",
        "outputId": "922cd6a1-63bf-48f8-fcaf-3c45062e3ecf"
      },
      "source": [
        "# User Input\n",
        "name = input(\"What is your name? \")\n",
        "print('Welcome',name)"
      ],
      "execution_count": null,
      "outputs": [
        {
          "output_type": "stream",
          "text": [
            "What is your name? Ruchira\n",
            "Welcome Ruchira\n"
          ],
          "name": "stdout"
        }
      ]
    },
    {
      "cell_type": "code",
      "metadata": {
        "colab": {
          "base_uri": "https://localhost:8080/"
        },
        "id": "dJfJxjTRc33d",
        "outputId": "1c8e9c49-1cd8-4ec7-dcd4-75e855eaced0"
      },
      "source": [
        "# User Input Conversion\n",
        "\n",
        "# convert 0 to 1\n",
        "inp = input('Enter 0 ')\n",
        "out = int(inp) + 1\n",
        "print('Converted value ',out)"
      ],
      "execution_count": null,
      "outputs": [
        {
          "output_type": "stream",
          "text": [
            "Enter 0 4\n",
            "Converted value  5\n"
          ],
          "name": "stdout"
        }
      ]
    },
    {
      "cell_type": "code",
      "metadata": {
        "colab": {
          "base_uri": "https://localhost:8080/"
        },
        "id": "zJ9ZBmO1eZFC",
        "outputId": "83bcba12-7fb5-4a55-bae7-231858bfed5d"
      },
      "source": [
        " print(\"Perfect Plan B\" + \"123\")"
      ],
      "execution_count": null,
      "outputs": [
        {
          "output_type": "stream",
          "text": [
            "Perfect Plan B123\n"
          ],
          "name": "stdout"
        }
      ]
    },
    {
      "cell_type": "code",
      "metadata": {
        "colab": {
          "base_uri": "https://localhost:8080/"
        },
        "id": "HYywaKdueq2D",
        "outputId": "970d21b5-46a1-4025-f8b3-deea77bfc7d4"
      },
      "source": [
        "j = 4\n",
        "j = j + 4\n",
        "print(j)\n",
        "\n",
        "32%10\n",
        "\n",
        "z = 1 + 3 * 2 - 8 / 4\n",
        "print(z)"
      ],
      "execution_count": null,
      "outputs": [
        {
          "output_type": "stream",
          "text": [
            "8\n",
            "5.0\n"
          ],
          "name": "stdout"
        }
      ]
    },
    {
      "cell_type": "code",
      "metadata": {
        "colab": {
          "base_uri": "https://localhost:8080/"
        },
        "id": "GT-4P8Z1fWoH",
        "outputId": "a674e3c0-2a56-449a-cab3-8a179ef9dde3"
      },
      "source": [
        "x = int(89.7)\n",
        "print(x)"
      ],
      "execution_count": null,
      "outputs": [
        {
          "output_type": "stream",
          "text": [
            "89\n"
          ],
          "name": "stdout"
        }
      ]
    },
    {
      "cell_type": "code",
      "metadata": {
        "id": "l3BpQ6QQfbT4",
        "colab": {
          "base_uri": "https://localhost:8080/"
        },
        "outputId": "1ae3eb59-9124-4673-dd5b-5f9a1576eee1"
      },
      "source": [
        "day = int(input(\"Enter number of days : \"))\n",
        "RatePerDay = float(input(\"Enter rate per day : \"))\n",
        "TotalPay = day * RatePerDay\n",
        "print(\"Total Pay\",TotalPay)"
      ],
      "execution_count": null,
      "outputs": [
        {
          "output_type": "stream",
          "text": [
            "Enter number of days : 50\n",
            "Enter rate per day : 3.5\n",
            "Total Pay 175.0\n"
          ],
          "name": "stdout"
        }
      ]
    },
    {
      "cell_type": "code",
      "metadata": {
        "id": "YIY90v3LsIeg",
        "colab": {
          "base_uri": "https://localhost:8080/"
        },
        "outputId": "e1c05df6-0672-4622-ac50-a106d9e7c1aa"
      },
      "source": [
        "# Condition statement\n",
        "num = float(input(\"Enter a number :\"))\n",
        "if num > 0:\n",
        "  print(\"Positive\")\n",
        "elif num == 0:\n",
        "  print(\"ZERO\")\n",
        "else:\n",
        "  print(\"Negative\")\n",
        "print(\"End\")  "
      ],
      "execution_count": null,
      "outputs": [
        {
          "output_type": "stream",
          "text": [
            "Enter a number :-9\n",
            "Negative\n",
            "End\n"
          ],
          "name": "stdout"
        }
      ]
    },
    {
      "cell_type": "code",
      "metadata": {
        "colab": {
          "base_uri": "https://localhost:8080/"
        },
        "id": "McN1ts_mdPE4",
        "outputId": "79e6d2c0-4a02-425f-9295-f1d02c487b23"
      },
      "source": [
        "# Try and except\n",
        "astr = \"Hello Bob\"\n",
        "try:\n",
        "  istr = int(astr)\n",
        "except:\n",
        "  istr = -1\n",
        "print(\"First\",istr)  \n",
        "\n",
        "astr = 123\n",
        "try:\n",
        "  istr = int(astr)\n",
        "except:\n",
        "  istr = -1\n",
        "print(\"Second\",istr)"
      ],
      "execution_count": null,
      "outputs": [
        {
          "output_type": "stream",
          "text": [
            "First -1\n",
            "Second 123\n"
          ],
          "name": "stdout"
        }
      ]
    },
    {
      "cell_type": "code",
      "metadata": {
        "colab": {
          "base_uri": "https://localhost:8080/"
        },
        "id": "0qxHuGvxeA_5",
        "outputId": "9c71f137-19da-4a66-f19e-0cedb5623d7f"
      },
      "source": [
        "def divide(x,y):\n",
        "  try:\n",
        "    result = x/y\n",
        "    print(\"Yeah! Your answer is : \",result)\n",
        "  except:\n",
        "    print(\"Sorry, you are dividing by zero\")\n",
        "\n",
        "divide(3,2)"
      ],
      "execution_count": null,
      "outputs": [
        {
          "output_type": "stream",
          "text": [
            "Yeah! Your answer is :  1.5\n"
          ],
          "name": "stdout"
        }
      ]
    },
    {
      "cell_type": "code",
      "metadata": {
        "colab": {
          "base_uri": "https://localhost:8080/"
        },
        "id": "Hhnym0qFgjXt",
        "outputId": "df02a33a-0ae0-44d0-85ee-bb79b0c5833c"
      },
      "source": [
        "rawstr = input(\"Enter a number :\")\n",
        "try:\n",
        "  ival = int(rawstr)\n",
        "except:\n",
        "  ival = -1\n",
        "\n",
        "if ival > 0:\n",
        "  print(\"Nice Work\")\n",
        "else:\n",
        "  print(\"Not nice\")  "
      ],
      "execution_count": null,
      "outputs": [
        {
          "output_type": "stream",
          "text": [
            "Enter a number :hek\n",
            "Not nice\n"
          ],
          "name": "stdout"
        }
      ]
    },
    {
      "cell_type": "code",
      "metadata": {
        "colab": {
          "base_uri": "https://localhost:8080/"
        },
        "id": "ozT7Euy4tKYf",
        "outputId": "162edb4c-5dba-44d1-e380-0a6ea0c4ee6b"
      },
      "source": [
        "x = 0\n",
        "if x < 2:\n",
        "  print(\"Very small\")\n",
        "elif x < 10:\n",
        "  print(\" small\")  \n",
        "else:\n",
        "  print(\"Not small\")\n",
        "\n",
        "print(\"All done\")  "
      ],
      "execution_count": null,
      "outputs": [
        {
          "output_type": "stream",
          "text": [
            "Very small\n",
            "All done\n"
          ],
          "name": "stdout"
        }
      ]
    },
    {
      "cell_type": "code",
      "metadata": {
        "id": "KIptBHanvOQY"
      },
      "source": [
        "astr = \"Perfect Plan B\"\n",
        "istr = 0\n",
        "try:\n",
        "  istr = int(astr)\n",
        "except:\n",
        "  istr = -1  "
      ],
      "execution_count": null,
      "outputs": []
    }
  ]
}